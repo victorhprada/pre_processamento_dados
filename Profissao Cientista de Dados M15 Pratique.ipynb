{
 "cells": [
  {
   "cell_type": "markdown",
   "metadata": {
    "id": "cJdp3B_SGk7T"
   },
   "source": [
    "# **MÓDULO 15 - Exercício**\n",
    "# Análise  - A segunda etapa da Pré Modelagem"
   ]
  },
  {
   "cell_type": "markdown",
   "metadata": {
    "id": "1OirkvkeGuGg"
   },
   "source": [
    "# 1) O primeiro exercício é o de salvar a base que criaram na atividade do módulo anterior em csv e abrir ela neste arquivo.\n",
    "Igual fizemos no início do módulo atual no início da primeira aula."
   ]
  },
  {
   "cell_type": "code",
   "execution_count": null,
   "metadata": {
    "id": "5ejO5WSgnhFs"
   },
   "outputs": [],
   "source": [
    "import seaborn as sns\n",
    "import matplotlib.pyplot as plt\n",
    "import pandas as pd\n",
    "import numpy as np\n",
    "import plotly.express as px"
   ]
  },
  {
   "cell_type": "code",
   "execution_count": null,
   "metadata": {
    "id": "UD3a_pq7py5G"
   },
   "outputs": [],
   "source": [
    "#Seu código de importação aqui\n",
    "df = pd.read_csv('arquivo_analise_telecon.csv', delimiter=',')"
   ]
  },
  {
   "cell_type": "markdown",
   "metadata": {
    "id": "3O70nJb2HNP2"
   },
   "source": [
    "# 2) Comece pela análise univariada:\n",
    "\n",
    "A) Utilize a função describe no seu dataframe, veja os insights que consegue retirar.\n",
    "\n",
    "B) Já é possível identificar variáveis com possíveis outliers? Se sim, quais?\n",
    "- CLIENT_HOUR\n",
    "- PAYMENT_MONTH\n",
    "- FULL_PAYMENT\n",
    "\n",
    "C) Plot gráficos que considerar importante para completar sua análise univariada. (Lembrando que sua variável preditora é o churn). Não se esqueça de trazer insights de cada gráfico plotado. Utilize pelo menos 4 variáveis distintas.\n",
    "\n",
    "D) Verifique se os dados das variáveis Booleanas são balanceados ou não."
   ]
  },
  {
   "cell_type": "code",
   "execution_count": null,
   "metadata": {},
   "outputs": [],
   "source": []
  },
  {
   "cell_type": "code",
   "execution_count": null,
   "metadata": {
    "id": "unW8WDrlGBFE"
   },
   "outputs": [],
   "source": [
    "#Seu código aqui\n",
    "# Analysis Churn\n",
    "count_churn = df['CHURN'].value_counts()\n",
    "print(count_churn)\n",
    "\n",
    "# Calculate Churn Percentage\n",
    "percent_churn = (count_churn / count_churn.sum()) * 100\n",
    "print(percent_churn)\n",
    "\n",
    "ax = count_churn.plot(kind='bar')\n",
    "# Add percentage to graph\n",
    "for i, v in enumerate(count_churn):\n",
    "    ax.text(i, v + 1, f'{percent_churn[i]:.2f}%', ha='center')\n",
    "plt.title('Gráfico de barras para churn')\n",
    "plt.xlabel('Churn')\n",
    "plt.ylabel('Frequência')\n",
    "plt.xticks(rotation=1)\n",
    "plt.show()\n",
    "\n",
    "# Analysis Dependents\n",
    "df['DEPENDENTS'].hist(bins=20)\n",
    "plt.title('Histograma dos dependentes')\n",
    "plt.xlabel('Dependentes')\n",
    "plt.ylabel('Frequência')\n",
    "plt.show()\n",
    "\n",
    "# Analysis Contract type\n",
    "df['CONTRACT_TYPE'].value_counts().plot(kind='pie', autopct='%1.1f%%')\n",
    "plt.title('Gráfico de Pizza para Visualizar os Tipos de Contratos')\n",
    "plt.show()\n",
    "\n",
    "# Analysis Streaming TV\n",
    "count_stramingtv = df['STREAMINGTV'].value_counts()\n",
    "\n",
    "# Calculate Streaming TV Percentage\n",
    "percent_streamingtv = (count_stramingtv / count_stramingtv.sum()) * 100\n",
    "\n",
    "ax = count_stramingtv.plot(kind='bar')\n",
    "\n",
    "# Add percentage to graph\n",
    "for i, v in enumerate(count_stramingtv):\n",
    "    ax.text(i, v + 1, f'{percent_streamingtv[i]:.2f}%', ha='center')\n",
    "plt.title('Gráfico de Barras para Streaming TV')\n",
    "plt.xlabel('Streaming')\n",
    "plt.ylabel('Frequência')\n",
    "plt.xticks(rotation=1)\n",
    "plt.show()\n",
    "\n",
    "# Verify Booleans Elderly\n",
    "count_elderly = df['ELDERLY'].value_counts()\n",
    "percent_elderly = (count_elderly / count_elderly.sum()) * 100\n",
    "\n",
    "print(count_elderly)\n",
    "print(percent_elderly)\n",
    "\n",
    "# Verify Booleans Married\n",
    "count_married = df['MARRIED'].value_counts()\n",
    "percent_married = (count_married / count_married.sum()) * 100\n",
    "\n",
    "print(count_married)\n",
    "print(percent_married)\n",
    "\n",
    "# Verify Booleans Dependents\n",
    "count_dependents = df['DEPENDENTS'].value_counts()\n",
    "percent_dependents = (count_dependents / count_dependents.sum()) * 100\n",
    "\n",
    "print(count_dependents)\n",
    "print(percent_dependents)"
   ]
  },
  {
   "cell_type": "markdown",
   "metadata": {
    "id": "kQ8r3_LVH_EJ"
   },
   "source": [
    "# 3) Identifique e trate as colunas que contém outliers.\n",
    "Caso opte por mante-los ou altera-los justifique sua escolha.\n"
   ]
  },
  {
   "cell_type": "code",
   "execution_count": null,
   "metadata": {
    "id": "hL9I5plcGEAA"
   },
   "outputs": [],
   "source": [
    "#Seu código aqui\n",
    "# Search Outlier Client Hour\n",
    "fig = px.box(df,\n",
    "             y='CLIENT_HOUR',\n",
    "             title='BoxPlot do Tempo de Atendimento',\n",
    "             labels={'CLIENT_HOUR': 'Tempo'})\n",
    "fig.show()\n",
    "\n",
    "# Search Outlier Payment Month\n",
    "fig = px.box(df,\n",
    "             y='PAYMENT_MONTH',\n",
    "             title='BoxPlot de Pagamento Mensal',\n",
    "             labels={'PAYMENT_MONTH': 'Mensalidade'})\n",
    "fig.show()\n",
    "\n",
    "# Search Outlier Full Payment\n",
    "fig = px.box(df,\n",
    "             y='FULL_PAYMENT',\n",
    "             title='BoxPlot de Pagamento Total',\n",
    "             labels={'FULL_PAYMENT': 'Pagamento Total'})\n",
    "fig.show()"
   ]
  },
  {
   "cell_type": "markdown",
   "metadata": {
    "id": "l7XwsuFpIWKB"
   },
   "source": [
    "# 4) Realize a etapa da análise bivariada:\n",
    "A) Questione pelo menos 5 informações e traga as respostas utilizando visuais gráficos e insights.\n",
    "\n",
    "\n",
    "B) Quais variáveis você acredita serem as mais importantes para esse projetos relacionadas a variável Churn?\n",
    "- Casados x Churn\n",
    "    Insight:\n",
    "        Pessoas casadas apresentam uma taxa de churn menor, possivelmente devido a uma maior estabilidade financeira e um comportamento de consumo mais conservador.\n",
    "        \n",
    "    Possível ação:\n",
    "        Oferecer planos que beneficiem pessoas que não são casadas, um plano mais em conta com propagandas.\n",
    "\n",
    "- Tipos de Contrato x Churn\n",
    "    Insight:\n",
    "    Clientes com contratos de pagamento mensal possuem maior churn, pois têm mais flexibilidade para cancelar, ao contrário de contratos anuais ou com maior fidelização.\n",
    "    \n",
    "    Possível ação:\n",
    "    Criar incentivos para que clientes migrem para contratos mais longos, como descontos ou benefícios adicionais.\n",
    "\n",
    "- Pessoas que possuêm dependentes x Churn\n",
    "    Insight:\n",
    "        Pessoas com dependentes possuêm uma menor taxa de churn, pois estão mais propensas a considerar a estabilidade de serviços essenciais para suas famílias.\n",
    "        \n",
    "    Possível ação:\n",
    "        Oferecer planos mais baratos para pessoas que não possuêm dependentes.\n",
    "\n",
    "- Gênero x Churn\n",
    "    Insight:\n",
    "        Em geral, não se espera uma diferença significativa entre gêneros no churn, mas neste caso as mulheres possuem um número levemente maior que os homens, isso pode indicar diferenças nas expectativas de serviço ou percepções sobre o valor do produto.\n",
    "        \n",
    "    Possível ação:\n",
    "        Realizar pesquisas para entender as percepções de cada grupo e ajustar as estratégias de marketing ou suporte.\n",
    "\n",
    "- Idosos x Churn\n",
    "Insight:\n",
    "        Idosos possuem uma menor taxa de churn, pois tendem a ser mais fiéis a serviços e relutantes em trocar.\n",
    "        \n",
    "    Possível ação:\n",
    "        "
   ]
  },
  {
   "cell_type": "code",
   "execution_count": null,
   "metadata": {
    "id": "7APnjGTNGHYb"
   },
   "outputs": [],
   "source": [
    "#Seu código aqui\n",
    "# Biv Analysis\n",
    "\n",
    "# Percentage Married x Churn\n",
    "df_group_married = df.groupby(['CHURN', 'MARRIED']).size().reset_index(name='count')\n",
    "total_churn = df_group_married.groupby('CHURN')['count'].transform('sum')\n",
    "df_group_married['percent'] = (df_group_married['count'] / total_churn) * 100\n",
    "\n",
    "fig = px.bar(df_group_married,\n",
    "             x='CHURN',\n",
    "             y='percent',\n",
    "             color='MARRIED',\n",
    "             barmode='stack',\n",
    "             labels={'CHURN': 'Churn', 'percent': 'Porcentagem', 'MARRIED': 'Casado(a)'})\n",
    "# Layout\n",
    "fig.update_layout(title='Releção entre Churn e Casado(a)',\n",
    "                  yaxis_title='Porcentagem',\n",
    "                  legend_title='Casado(a)')\n",
    "fig.show()\n",
    "\n",
    "# Percentage Contract Type x Churn\n",
    "df_group_contract_type = df.groupby(['CHURN', 'CONTRACT_TYPE']).size().reset_index(name='count')\n",
    "df_group_contract_type['percent'] = (df_group_contract_type['count'] / total_churn) * 100\n",
    "\n",
    "fig = px.bar(df_group_contract_type,\n",
    "             x='CHURN',\n",
    "             y='percent',\n",
    "             color='CONTRACT_TYPE',\n",
    "             barmode='stack',\n",
    "             labels={'CHURN': 'Churn', 'percent': 'Porcentagem', 'CONTRACT_TYPE': 'Tipo de Contrato'})\n",
    "# Layout\n",
    "fig.update_layout(title='Relação entre Churn e Tipo de Contrato',\n",
    "                  yaxis_title='Porcentagem',\n",
    "                  legend_title='Tipo de Contrato')\n",
    "fig.show()\n",
    "\n",
    "# Percentage Dependents x Churn\n",
    "df_group_dependents = df.groupby(['CHURN', 'DEPENDENTS']).size().reset_index(name='count')\n",
    "df_group_dependents['percent'] = (df_group_dependents['count'] / total_churn) * 100\n",
    "\n",
    "fig = px.bar(df_group_dependents,\n",
    "             x='CHURN',\n",
    "             y='percent',\n",
    "             color='DEPENDENTS',\n",
    "             barmode='stack',\n",
    "             labels={'CHURN': 'Churn', 'percent': 'Porcentagem', 'DEPENDENTS': 'Dependentes'})\n",
    "# Layout\n",
    "fig.update_layout(title='Relação entre Churn e Dependentes',\n",
    "                  yaxis_title='Porcentagem',\n",
    "                  legend_title='Dependentes')\n",
    "fig.show()\n",
    "\n",
    "# Percentage Gender x Churn\n",
    "df_group_gender = df.groupby(['CHURN', 'GENDER']).size().reset_index(name='count')\n",
    "df_group_gender['percent'] = (df_group_gender['count'] / total_churn) * 100\n",
    "\n",
    "fig = px.bar(df_group_gender,\n",
    "             x='CHURN',\n",
    "             y='percent',\n",
    "             color='GENDER',\n",
    "             barmode='stack',\n",
    "             labels={'CHURN': 'Churn', 'percent': 'Porcentagem', 'GENDER': 'Gênero'}\n",
    "             )\n",
    "# Layout\n",
    "fig.update_layout(title='Relação entre Gênero e Churn',\n",
    "                  yaxis_title='Porcentagem',\n",
    "                  legend_title='Gênero')\n",
    "fig.show()\n",
    "\n",
    "# Percentage Elderly x Churn\n",
    "fig = px.histogram(df,\n",
    "                   x='CHURN',\n",
    "                   color='ELDERLY',\n",
    "                   barmode='stack',\n",
    "                   labels={'CHURN': 'Churn', 'ELDERLY': 'Idoso'})\n",
    "# Layout\n",
    "fig.update_layout(title='Relação entre Idosos e Churn',\n",
    "                  xaxis_title='CHURN',\n",
    "                  yaxis_title='Contagem',\n",
    "                  legend_title='Idoso')\n",
    "fig.show()"
   ]
  }
 ],
 "metadata": {
  "colab": {
   "provenance": []
  },
  "kernelspec": {
   "display_name": "Python 3",
   "name": "python3"
  },
  "language_info": {
   "name": "python"
  }
 },
 "nbformat": 4,
 "nbformat_minor": 0
}
